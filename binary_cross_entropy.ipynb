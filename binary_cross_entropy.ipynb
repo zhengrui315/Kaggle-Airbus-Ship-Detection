{
 "cells": [
  {
   "cell_type": "code",
   "execution_count": 8,
   "metadata": {},
   "outputs": [],
   "source": [
    "import tensorflow as tf\n",
    "import numpy as np\n",
    "import math\n",
    "\n",
    "def sigmoid(x):\n",
    "  return 1 / (1 + np.exp(-x))\n",
    "def bce(x,y):\n",
    "    return np.mean(-y * np.log(sigmoid(x)) - (1 - y) * np.log(1 - sigmoid(x)))\n",
    "\n",
    "x = np.array([[1,0,0,0,0],[0,1,0,0,0]])\n",
    "y = np.ones((2,5))"
   ]
  },
  {
   "cell_type": "code",
   "execution_count": 11,
   "metadata": {},
   "outputs": [
    {
     "name": "stdout",
     "output_type": "stream",
     "text": [
      "0.6171701 0.6171700819516008 0.6666666\n"
     ]
    }
   ],
   "source": [
    "inputs = tf.placeholder(tf.float32, [None, 5], name='inputs')\n",
    "labels = tf.placeholder(tf.float32, [None, 5], name='labels')\n",
    "bce_cost = tf.reduce_mean(tf.nn.sigmoid_cross_entropy_with_logits(logits=inputs, labels=labels))\n",
    "\n",
    "numerator = 2 * tf.reduce_sum(inputs * labels, axis=1)\n",
    "denominator = tf.reduce_sum(inputs + labels, axis=1)\n",
    "dice_loss = 1 - tf.reduce_mean(numerator / denominator)\n",
    "\n",
    "x = np.array([[1,0,0,0,0],[0,1,0,0,0]])\n",
    "y = np.ones((2,5))\n",
    "sess = tf.Session()\n",
    "bce_tf, dice_tf = sess.run([bce_cost, dice_loss],feed_dict={inputs:x, labels:y})\n",
    "bce_np = bce(x,y)\n",
    "print(bce_tf, bce_np, dice_tf)"
   ]
  },
  {
   "cell_type": "code",
   "execution_count": null,
   "metadata": {},
   "outputs": [],
   "source": []
  }
 ],
 "metadata": {
  "kernelspec": {
   "display_name": "Python 3",
   "language": "python",
   "name": "python3"
  },
  "language_info": {
   "codemirror_mode": {
    "name": "ipython",
    "version": 3
   },
   "file_extension": ".py",
   "mimetype": "text/x-python",
   "name": "python",
   "nbconvert_exporter": "python",
   "pygments_lexer": "ipython3",
   "version": "3.5.2"
  }
 },
 "nbformat": 4,
 "nbformat_minor": 2
}
